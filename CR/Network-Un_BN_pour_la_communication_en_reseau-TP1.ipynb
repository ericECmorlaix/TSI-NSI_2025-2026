{
 "cells": [
  {
   "cell_type": "markdown",
   "metadata": {},
   "source": [
    "# Un Bloc Note pour expérimenter la communication dans un réseau :\n",
    "\n",
    "\n",
    "# Introduction :\n",
    "\n",
    "Les réseaux informatiques font partie de notre quotidien depuis de nombreuses années. Ils sont le support de nombreux services (données, voix, vidéo)... \n",
    "\n",
    "> voir la vidéo [Les réseaux informatiques et Internet](https://www.youtube.com/watch?v=JqweQE6TDTc)"
   ]
  },
  {
   "cell_type": "code",
   "execution_count": 2,
   "metadata": {},
   "outputs": [
    {
     "data": {
      "text/html": [
       "<center><iframe width=\"560\" height=\"315\" src=\"https://www.youtube.com/embed/JqweQE6TDTc\" frameborder=\"0\" allow=\"accelerometer; autoplay; encrypted-media; gyroscope; picture-in-picture\" allowfullscreen></iframe></center>"
      ],
      "text/plain": [
       "<IPython.core.display.HTML object>"
      ]
     },
     "execution_count": 2,
     "metadata": {},
     "output_type": "execute_result"
    }
   ],
   "source": [
    "from IPython.display import HTML\n",
    "\n",
    "HTML(\"\"\"<center><iframe width=\"560\" height=\"315\" src=\"https://www.youtube.com/embed/JqweQE6TDTc\" frameborder=\"0\" allow=\"accelerometer; autoplay; encrypted-media; gyroscope; picture-in-picture\" allowfullscreen></iframe></center>\"\"\")"
   ]
  },
  {
   "cell_type": "markdown",
   "metadata": {},
   "source": [
    "Ce BN a pour objectif de vous faire découvrir le fonctionnement des réseaux (LAN / WAN) en les mettant en œuvre, en suivant le chemin (route) emprunté par l’information, en observant les échanges d’informations (traffic), et en construisant, paramétrant, et testant le fonctionnement d'un réseau local LAN..."
   ]
  },
  {
   "cell_type": "markdown",
   "metadata": {},
   "source": [
    "# Expérience n°1 sur le réseau du lycée :\n",
    "Les PC du Labo de SI, comme tous ceux du lycée sont connectés en réseau :\n",
    "<img src=\"https://ericecmorlaix.github.io/img/Reseau.png\" width=\"50%\" >\n",
    "<center><figcaption>Illustration très simplifiée du réseau du lycée.</figcaption></center>\n",
    "\n",
    "### Relever les paramètres du réseau :\n",
    "\n",
    "Depuis un PC sous Windows11 saisir `cmd` dans la recherche pour démarrer une invite de commandes et taper `ipconfig`.\n",
    "\n",
    "*(Vous pouvez aussi réaliser cette expérience chez vous sur un PC avec l'OS Windows...)*\n",
    "\n",
    "Quels sont les cartes réseaux connectées  (ou déconnectées) ?"
   ]
  },
  {
   "cell_type": "raw",
   "metadata": {},
   "source": []
  },
  {
   "cell_type": "markdown",
   "metadata": {},
   "source": [
    "Taper `ipconfig/all`. Quelle est la différence avec la commande précédente ?"
   ]
  },
  {
   "cell_type": "raw",
   "metadata": {},
   "source": []
  },
  {
   "cell_type": "markdown",
   "metadata": {},
   "source": [
    "Relever les paramètres IPV4 de la carte Ethernet de votre PC :"
   ]
  },
  {
   "cell_type": "raw",
   "metadata": {
    "vscode": {
     "languageId": "raw"
    }
   },
   "source": [
    "- Description :\n",
    "- Adresse Physique :\n",
    "- DHCP activé : \n",
    "- Configuration \t:\tautomatique  /  manuelle\t\t\t(rayer la mention inutile)\n",
    "- Adresse IPv4 :\n",
    "- Masque :\n",
    "- Passerelle :\n",
    "- Serveur(s) DNS :\n",
    "- Serveur DHCP :\n",
    "- Durée de validité des paramètres IP (durée du bail) :"
   ]
  },
  {
   "cell_type": "markdown",
   "metadata": {},
   "source": [
    "En trois mots, qu’est-ce qu’une adresse MAC ?"
   ]
  },
  {
   "cell_type": "raw",
   "metadata": {},
   "source": []
  },
  {
   "cell_type": "markdown",
   "metadata": {},
   "source": [
    "En trois mots, qu’est-ce qu’un serveur DNS ?"
   ]
  },
  {
   "cell_type": "raw",
   "metadata": {},
   "source": []
  },
  {
   "cell_type": "markdown",
   "metadata": {},
   "source": [
    "Qu’est-ce qu’un serveur DHCP ?"
   ]
  },
  {
   "cell_type": "raw",
   "metadata": {},
   "source": []
  },
  {
   "cell_type": "markdown",
   "metadata": {},
   "source": [
    "Débrancher le câble Ethernet du PC, puis refaire un `ipconfig/all`. Quelle est la différence avec précédemment ?"
   ]
  },
  {
   "cell_type": "raw",
   "metadata": {},
   "source": []
  },
  {
   "cell_type": "markdown",
   "metadata": {},
   "source": [
    "Reconnecter, et recommencer. Quelle est la différence avec précédemment ?"
   ]
  },
  {
   "cell_type": "raw",
   "metadata": {},
   "source": []
  },
  {
   "cell_type": "markdown",
   "metadata": {},
   "source": [
    "Taper `ipconfig/release`. Quelle est l’action de cette commande ?"
   ]
  },
  {
   "cell_type": "raw",
   "metadata": {},
   "source": []
  },
  {
   "cell_type": "markdown",
   "metadata": {},
   "source": [
    "Taper `ipconfig/renew`. Quelle est l’action de cette commande. Qu’est-ce-qui a changé par rapport à\n",
    "la question précédente ?"
   ]
  },
  {
   "cell_type": "raw",
   "metadata": {},
   "source": []
  },
  {
   "cell_type": "markdown",
   "metadata": {},
   "source": [
    "Taper `ipconfig/?` pour vérifier vos réponses..."
   ]
  },
  {
   "cell_type": "raw",
   "metadata": {},
   "source": []
  },
  {
   "cell_type": "markdown",
   "metadata": {},
   "source": [
    "### Test de communication :\n",
    "\n",
    "La commande couramment utilisée pour tester la communication entre les machines est `ping`. Par exemple, l'instruction `ping 192.168.1.99` permet de vérifier que votre PC communique avec le poste `192.168.1.99`. \n",
    "\n",
    "Tester la communication avec le poste de votre voisin (indiquer la commande et le résultat obtenu). La communication est-elle établie ? Si non, désactiver temporairement le pare-feu (ou régler ces paramètres avancés ICMP pour autoriser une requête d’écho entrante). Qui répond ?"
   ]
  },
  {
   "cell_type": "raw",
   "metadata": {},
   "source": []
  },
  {
   "cell_type": "markdown",
   "metadata": {},
   "source": [
    "Tester la communication avec la passerelle (indiquer la commande et le résultat obtenu). La communication est-elle établie ? Qui répond ?"
   ]
  },
  {
   "cell_type": "raw",
   "metadata": {},
   "source": []
  },
  {
   "cell_type": "markdown",
   "metadata": {},
   "source": [
    "Tester la communication avec le 127.1.0.0 (indiquer la commande et le résultat obtenu). La communication est-elle établie ? Qui répond ?"
   ]
  },
  {
   "cell_type": "raw",
   "metadata": {},
   "source": []
  },
  {
   "cell_type": "markdown",
   "metadata": {},
   "source": [
    "Tester la communication avec le site www.google.fr  (indiquer la commande et le résultat obtenu). La communication est-elle établie ? Qui répond ?"
   ]
  },
  {
   "cell_type": "raw",
   "metadata": {},
   "source": []
  },
  {
   "cell_type": "markdown",
   "metadata": {},
   "source": [
    "Alors saisir l'IP de la réponse dans la barre d'URL de votre navigateur..."
   ]
  },
  {
   "cell_type": "markdown",
   "metadata": {},
   "source": [
    "Essayer aussi avec l'instruction `nslookup www.google.fr`\n",
    "\n",
    "****\n",
    "> <img src=\"https://ericecmorlaix.github.io/img/OS-aShell.png\" alt=\"OS-aShell.png\" width=20% align=\"right\">\n",
    "> <br>\n",
    ">\n",
    "> Dans les applications `Ubuntu WSL` sur PC, `a-Shell mini` et `iSH Shell` sur votre iPad,\n",
    "> \n",
    "> tester les commandes `ifconfig`, `ping`, `nslookup`...\n",
    "> \n",
    "> <br>\n",
    "> <br>\n",
    "****"
   ]
  },
  {
   "cell_type": "markdown",
   "metadata": {},
   "source": [
    "Essayer chez vous l'instruction `tracert www.google.fr`"
   ]
  },
  {
   "cell_type": "markdown",
   "metadata": {},
   "source": [
    "# Comprendre :\n",
    "\n",
    "## L'adressage IP des machines sur un réseau :\n",
    "\n",
    "- Lire et faire les exercices de la page [Introduction au réseau](https://pixees.fr/informatiquelycee/n_site/nsi_prem_intro_reseau.html) proposée par David ROCHE ;\n",
    "\n",
    "## Les échanges d'informations dans un réseau TCP/IP :\n",
    "\n",
    "- Régarder les vidéos :\n",
    "    - [Internet, IP un protocole universel ?](https://youtu.be/s18KtOLpCg4) ;\n",
    "    - [C'est quoi le TCP/IP ?](https://youtu.be/_0thnFumSdA) ;\n",
    "\n",
    "- Lire les pages proposées par David ROCHE :\n",
    "    - [Protocoles TCP et IP](https://pixees.fr/informatiquelycee/n_site/nsi_prem_tcpip.html) ;\n",
    "    - [Le modèle TCP/IP](https://pixees.fr/informatiquelycee/n_site/nsi_prem_modele_tcpip.html) ;\n",
    "    - [Protocole du bit alterné](https://pixees.fr/informatiquelycee/n_site/nsi_prem_bit_alt.html) ;  \n"
   ]
  }
 ],
 "metadata": {
  "anaconda-cloud": {},
  "kernelspec": {
   "display_name": "Python 3.10.1 64-bit",
   "language": "python",
   "name": "python3"
  },
  "language_info": {
   "codemirror_mode": {
    "name": "ipython",
    "version": 3
   },
   "file_extension": ".py",
   "mimetype": "text/x-python",
   "name": "python",
   "nbconvert_exporter": "python",
   "pygments_lexer": "ipython3",
   "version": "3.10.1"
  },
  "toc": {
   "base_numbering": 1,
   "nav_menu": {},
   "number_sections": true,
   "sideBar": true,
   "skip_h1_title": false,
   "title_cell": "Table of Contents",
   "title_sidebar": "Contents",
   "toc_cell": false,
   "toc_position": {},
   "toc_section_display": true,
   "toc_window_display": false
  },
  "varInspector": {
   "cols": {
    "lenName": 16,
    "lenType": 16,
    "lenVar": 40
   },
   "kernels_config": {
    "python": {
     "delete_cmd_postfix": "",
     "delete_cmd_prefix": "del ",
     "library": "var_list.py",
     "varRefreshCmd": "print(var_dic_list())"
    },
    "r": {
     "delete_cmd_postfix": ") ",
     "delete_cmd_prefix": "rm(",
     "library": "var_list.r",
     "varRefreshCmd": "cat(var_dic_list()) "
    }
   },
   "types_to_exclude": [
    "module",
    "function",
    "builtin_function_or_method",
    "instance",
    "_Feature"
   ],
   "window_display": false
  },
  "vscode": {
   "interpreter": {
    "hash": "c813da0d88532624e95401f841607d640ef6d724b81c00ab0d0885f617a921c3"
   }
  }
 },
 "nbformat": 4,
 "nbformat_minor": 2
}
