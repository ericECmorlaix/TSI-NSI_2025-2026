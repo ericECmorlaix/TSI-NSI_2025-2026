{
 "cells": [
  {
   "cell_type": "markdown",
   "metadata": {},
   "source": [
    "# Un Bloc Note pour expérimenter la communication dans un réseau :\n",
    "\n"
   ]
  },
  {
   "cell_type": "markdown",
   "metadata": {},
   "source": [
    "# Expérience n°2 construire un réseau local :\n",
    "\n",
    "### Entre 2 PC :\n",
    "Dans ce premier montage, vous allez connecter vos ordinateurs directement en utilisant un simple câble Ethernet.\n",
    "<img src=\"https://ericecmorlaix.github.io/img/2PC.png\" width=\"50%\" >\n",
    "\n",
    "Les ordinateurs auront-ils accès à Internet? Justifier :\n",
    "\n",
    "...\n",
    "\n",
    "Effectuer le montage et configurer la carte réseau en adressage automatique. Attendre 30 secondes, puis relever l'adresse IP de vos ordinateurs et vérifier la connexion par un `ping`.\n",
    "\n",
    "Qu'est-ce qu'une adresse APIPA ?\n",
    "\n",
    "...\n",
    "\n",
    "Quel autre type d'adresse aurait-on pu configurer ?\n",
    "\n",
    "...\n",
    "\n",
    "Qu'est-ce qu'un cable croisé ?\n",
    "\n",
    "...\n",
    "\n",
    "Qu'est-ce que la fonction Auto MDIX ?\n",
    "\n",
    "...\n",
    "\n",
    "### LAN, Local Area Network :\n",
    "L'objectif maintenant est d'établir un réseau LAN entre 2 PC avec un switch ou un routeur puis d'y intégrer un Raspberry Pi afin de s'y connecter à distance. Il sera alors possible d'utiliser les différents services qui y sont installés ou d'y créer de nouveaux...\n",
    "\n",
    "<img src=\"https://ericecmorlaix.github.io/img/LAN.png\" width=\"75%\" >\n",
    "\n",
    "Effectuer le montage et configurer la carte réseau en adressage automatique. Attendre 30 secondes, puis relever l'adresse IP de vos appareils et vérifier la connexion par un `ping`...\n",
    "\n",
    "##### SSH, Secure Shell :\n",
    "\n",
    "Vérifier dans les préférences de configuration du Raspberry Pi que l'interface SSH est activée. ce qui n’est plus le cas par défaut depuis 2016 et une attaque massive sur les objets connectés...\n",
    "\n",
    "Depuis un PC sous Windows11, rechercher et lancer l'application de bureau PuTTY. Choisir une connection de type [SSH](https://fr.wikipedia.org/wiki/Secure_Shell), saisir l'adresse IP de votre Raspberry Pi puis cliquer sur le bouton `Open` pour ouvrir la connection et établir la communication entre le PC et l'appareil distant.\n",
    "\n",
    "<img src=\"https://ericecmorlaix.github.io/img/W10-PuTTY-SSH.png\" width=\"40%\" >\n",
    "\n",
    "Dans la fenêtre de terminal qui s'ouvre, saisir `Python`, les trois chevrons `>>>` d'un interpréteur python doivent apparaitre. Tester le bon fonctionnement avec quelques instructions...\n",
    "\n",
    "Puis saisir `exit()` ou faire `Ctrl+D`  pour  quitter et revenir au prompt, saisir `pinout` pour visualiser l'organisation du [GPIO](https://fr.wikipedia.org/wiki/General_Purpose_Input/Output)...\n",
    "\n",
    "Vérifier que depuis un terminal Windows PowerShell sur PC, il est aussi possible de se connecter en SSH avec une instruction en ligne de commande de la forme : `ssh utilisateur@adresse_ip_ou_url_serveur`\n",
    "\n",
    "De même, vérifier que cela est possible depuis les applications `Visual Studio Code` sur un PC de votre LAN, `a-Shell mini` et `iSH Shell` sur votre iPad...\n",
    "\n",
    "Est-il possible de se connecter à plusieurs au Raspberry Pi en SSH ? \n",
    "\n",
    "##### GPIO, General Purpose Input Output :\n",
    "\n",
    "Si ce n'est pas déjà fait, dans les préférences de configuration du Raspberry Pi activer l'interface `Remote GPIO`\n",
    "Connecter alors une breadboard de base à votre Raspberry Pi et piloter son [GPIO](https://fr.wikipedia.org/wiki/General_Purpose_Input/Output) avec, par exemple, cette suite d'instructions :"
   ]
  },
  {
   "cell_type": "code",
   "execution_count": null,
   "metadata": {},
   "outputs": [],
   "source": [
    "from gpiozero import LED"
   ]
  },
  {
   "cell_type": "code",
   "execution_count": null,
   "metadata": {},
   "outputs": [],
   "source": [
    "ma_led = LED(17)"
   ]
  },
  {
   "cell_type": "code",
   "execution_count": null,
   "metadata": {},
   "outputs": [],
   "source": [
    "ma_led.on()"
   ]
  },
  {
   "cell_type": "code",
   "execution_count": null,
   "metadata": {},
   "outputs": [],
   "source": [
    "ma_led.off()"
   ]
  },
  {
   "cell_type": "code",
   "execution_count": null,
   "metadata": {},
   "outputs": [],
   "source": [
    "from gpiozero import Button"
   ]
  },
  {
   "cell_type": "code",
   "execution_count": null,
   "metadata": {},
   "outputs": [],
   "source": [
    "mon_bouton = Button(4)"
   ]
  },
  {
   "cell_type": "code",
   "execution_count": null,
   "metadata": {},
   "outputs": [],
   "source": [
    "not mon_bouton.is_pressed"
   ]
  },
  {
   "cell_type": "code",
   "execution_count": null,
   "metadata": {},
   "outputs": [],
   "source": [
    "from time import sleep"
   ]
  },
  {
   "cell_type": "code",
   "execution_count": null,
   "metadata": {},
   "outputs": [],
   "source": [
    "while True:\n",
    "    print(\"Bonjour\")\n",
    "    ma_led.on()\n",
    "    sleep(1)\n",
    "    ma_led.off()\n",
    "    sleep(1)\n",
    "    if (not mon_bouton.is_pressed):\n",
    "        print(\"Kenavo\")\n",
    "        break"
   ]
  },
  {
   "cell_type": "markdown",
   "metadata": {},
   "source": [
    "Depuis l'application `Visual Studio Code` d'un PC de votre LAN, cliquer sur le bouton vert en bas à gauche pour `Ouvrir une fenêtre distante` et choisir `Se connecter à l'hôte...`, puis `+ ajouter un nouvel hôte SSH...` et saisir `utilisateur@adresse_ip` puis saisir le mot de passe.\n",
    "\n",
    "Depuis cette fenêtre VSC en pilotage SSH, ouvrir un dossier de votre raspberry pi pour y créer un fichier python (`mon_script_GPIO.py`).\n",
    "\n",
    "Exécuter votre script depuis un PC de votre LAN et depuis votre iPad connecté en SSH...\n",
    "\n",
    "##### Pour aller plus loin :\n",
    "\n",
    "- https://www.raspberrypi.com/software/\n",
    "- avec le GPIO : https://gpiozero.readthedocs.io/en/stable/index.html\n"
   ]
  },
  {
   "cell_type": "markdown",
   "metadata": {},
   "source": [
    "# Prolongement :\n",
    "\n",
    "- VNC\n",
    "\n",
    "- [Pi Connect](https://www.raspberrypi.com/news/raspberry-pi-connect/)\n",
    "\n",
    "\n",
    "<!-- ##### VNC, Virtual Network Computing :\n",
    "\n",
    "Dans les préférences de configuration du Raspberry Pi activer l'interface serveur [VNC](https://fr.wikipedia.org/wiki/Virtual_Network_Computing).\n",
    "Si ce n'est pas déjà fait, installer [Real VNC viewer](https://www.realvnc.com/en/connect/download/viewer/) sur votre PC.\n",
    "A partir de Cortana, rechercher et lancer l'application de bureau VNC Viewer. Faire `Fichier>Nouvelle connexion` et saisir l'adresse IP du Raspberry Pi...\n",
    "\n",
    "Depuis votre PC, dans la fenêtre graphique qui s'ouvre, démarrer un terminal sur le Raspberry Pi, saisir `Python3`, les trois chevrons `>>>` d'un interpréteur python doivent apparaitre. Tester le bon fonctionnement avec quelques instructions...\n",
    "\n",
    "Puis saisir `exit()` ou faire `Ctrl+D` pour  quitter et revenir au prompt, saisir `jupyter notebook` pour démarrer l'application jupyter sur le Raspberry Pi et la piloter depuis votre PC...\n",
    "\n",
    "De même, vérifier que cela est possible depuis votre iPad...\n",
    "\n",
    "Est-il possible de s'y connecter à plusieurs ? -->\n",
    "\n",
    "\n",
    "<!-- - [Objets connectés, des robots dans nos maisons ?](https://www.youtube.com/watch?v=DOECi_ZKaYI) -->\n",
    "\n",
    "<!-- - Suivre la procédure pour programmer la carte [QuickPi](https://demo.hedgedoc.org/s/JIJ9UCO26) -->\n",
    "\n",
    "<!-- \n",
    "- comment peut-on piloter le GPIO depuis un notebook jupyter s'affichant dans le navigateur d'un PC connecté en SSH au Raspberry Pi, en local ? Et à distance ?\n",
    "    - https://desertbot.io/blog/raspberry-pi-jupyter-gpio\n",
    "    - https://raspberry-pi.fr/nom-domaine/\n",
    "    \n",
    "- quelle différence avec un serveur Jupyterhub comme un [TLJH](https://the-littlest-jupyterhub.readthedocs.io/en/latest/) ou comme décrit là : https://towardsdatascience.com/setup-your-home-jupyterhub-on-a-raspberry-pi-7ad32e20eed\n",
    "\n",
    "-->"
   ]
  },
  {
   "cell_type": "markdown",
   "metadata": {
    "slideshow": {
     "slide_type": ""
    }
   },
   "source": [
    "\n",
    " # Ressources :\n",
    "\n",
    "- [Inria - Les réseaux de communication](https://youtu.be/5AVY6E-7yCc)\n",
    "\n",
    "- https://culturenumerique.univ-lille.fr/module1.html\n",
    "\n",
    "- https://www.lossendiere.com/2016/12/31/comprendre-le-fonctionnement-dun-reseau-informatique/\n",
    "\n",
    "- Ne pas confondre Internet et [Le web, \"site internet\" ou \"site web\" ?](https://youtu.be/GqD6AiaRo3U)\n",
    " \n",
    "- http://www.lycee-ferry-versailles.fr/si-new/index.php?rubrique=5_2_reseaux\n",
    "\n",
    "- https://www.pedagogie.ac-aix-marseille.fr/upload/docs/application/pdf/2015-12/cours_reseaux.pdf\n",
    "\n",
    "- https://www.frameip.com/\n",
    "\n",
    "- http://www.monip.org/"
   ]
  }
 ],
 "metadata": {
  "anaconda-cloud": {},
  "kernelspec": {
   "display_name": "Python 3.10.1 64-bit",
   "language": "python",
   "name": "python3"
  },
  "language_info": {
   "codemirror_mode": {
    "name": "ipython",
    "version": 3
   },
   "file_extension": ".py",
   "mimetype": "text/x-python",
   "name": "python",
   "nbconvert_exporter": "python",
   "pygments_lexer": "ipython3",
   "version": "3.10.1"
  },
  "toc": {
   "base_numbering": 1,
   "nav_menu": {},
   "number_sections": true,
   "sideBar": true,
   "skip_h1_title": false,
   "title_cell": "Table of Contents",
   "title_sidebar": "Contents",
   "toc_cell": false,
   "toc_position": {},
   "toc_section_display": true,
   "toc_window_display": false
  },
  "varInspector": {
   "cols": {
    "lenName": 16,
    "lenType": 16,
    "lenVar": 40
   },
   "kernels_config": {
    "python": {
     "delete_cmd_postfix": "",
     "delete_cmd_prefix": "del ",
     "library": "var_list.py",
     "varRefreshCmd": "print(var_dic_list())"
    },
    "r": {
     "delete_cmd_postfix": ") ",
     "delete_cmd_prefix": "rm(",
     "library": "var_list.r",
     "varRefreshCmd": "cat(var_dic_list()) "
    }
   },
   "types_to_exclude": [
    "module",
    "function",
    "builtin_function_or_method",
    "instance",
    "_Feature"
   ],
   "window_display": false
  },
  "vscode": {
   "interpreter": {
    "hash": "c813da0d88532624e95401f841607d640ef6d724b81c00ab0d0885f617a921c3"
   }
  }
 },
 "nbformat": 4,
 "nbformat_minor": 2
}
